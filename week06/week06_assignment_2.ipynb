{
  "cells": [
    {
      "cell_type": "markdown",
      "metadata": {
        "nbgrader": {
          "grade": false,
          "grade_id": "intro",
          "locked": true,
          "schema_version": 1,
          "solution": false
        },
        "id": "teyf1Y-R7ca-"
      },
      "source": [
        "# Week 6 Exercises\n",
        "\n",
        "_McKinney 6.1_\n",
        "\n",
        "There are multiple ways to solve the problems below.  You can use any one of several approaches.  For example, you can read CSV files using Pandas or the csv module.  Your score won't depend on which modules you choose to use unless explicitly noted below, but your programming style will still matter."
      ]
    },
    {
      "cell_type": "markdown",
      "metadata": {
        "nbgrader": {
          "grade": false,
          "grade_id": "q1-description",
          "locked": true,
          "schema_version": 1,
          "solution": false
        },
        "id": "eVpABD177ca_"
      },
      "source": [
        "### 30.1 List of Allergies\n",
        "\n",
        "In this GitHub repository, there is a file called `allergies.json` that contains a list of patient allergies.  You will need to download this [file from here](https://raw.githubusercontent.com/paulboal/hds5210-2023/main/week06/allergies.json) and then upload it into Google Colab to run these examples. It is taken from sample data provided by the EHR vendor, Epic, here: https://open.epic.com/Clinical/Allergy\n",
        "\n",
        "Take some time to look at the structure of the file.  You can open it directly in Jupyter by clicking the _Home_ icon, then the _from_instructor_ folder, and then the _data_ folder.\n",
        "\n",
        "Within the file, you'll see that it is a dictionary with many items in it.  One of those items is called `entry` and that item is a list of things.  You can tell that because the item name is immediately followed by an opening square bracket, signifying the start of a list.  It's line 11 of the file: `  \"entry\": [`\n",
        "\n",
        "Write a function named `allergy_count(json_file)` that takes as one parameter the name of the JSON file and returns an integer number of entries in that file.  Your function should open the file, read the json into a Python object, and return how many items there are in the list of `entry`s."
      ]
    },
    {
      "cell_type": "code",
      "execution_count": 197,
      "metadata": {
        "id": "FjCfMtfb7ca_",
        "colab": {
          "base_uri": "https://localhost:8080/"
        },
        "outputId": "9aa83234-3215-4e02-8e09-047db74ae165"
      },
      "outputs": [
        {
          "output_type": "execute_result",
          "data": {
            "text/plain": [
              "dict"
            ]
          },
          "metadata": {},
          "execution_count": 197
        }
      ],
      "source": [
        "import json\n",
        "ALLERGIES_FILE=json.load(open('allergies.json'))\n",
        "type(ALLERGIES_FILE)"
      ]
    },
    {
      "cell_type": "code",
      "execution_count": 198,
      "metadata": {
        "nbgrader": {
          "grade": false,
          "grade_id": "q1-answer",
          "locked": false,
          "schema_version": 1,
          "solution": true
        },
        "id": "weIyaTKi7cbA"
      },
      "outputs": [],
      "source": [
        "# Put your solution here\n",
        "import json\n",
        "def allergy_count(json_file):\n",
        " \"\"\"\n",
        "  (dict)->int\n",
        "  Here i have created a variable as incidents and i have run the for loop so that i\n",
        "  loop over the enteries and i have put the if condition to access the certainty\n",
        "  from the entry so if the certainty is confirmed it adds up the incidents so that\n",
        "  we get to see how many allergies are recorded.\n",
        "\n",
        "  >>> (allergy_count(ALLERGIES_FILE))\n",
        "  int\n",
        "\n",
        "  >>> allergy_count(ALLERGIES_FILE)\n",
        "  4\n",
        "\"\"\"\n",
        " try:\n",
        "    with open(json_file, 'r') as file:\n",
        "      data=json.load(file)\n",
        "      if \"entry\" in data and isinstance (data[\"entry\"],list):\n",
        "         return len(data[\"entry\"])\n",
        "      else:\n",
        "        return 0\n",
        " except FileNotFoundError:\n",
        "      return 0\n",
        "ALLERGIES_FILE = 'allergies.json'"
      ]
    },
    {
      "cell_type": "code",
      "execution_count": 199,
      "metadata": {
        "id": "IYtBh8U97cbA",
        "outputId": "1a7eb049-4b98-416e-e52d-4374b44f92a9",
        "colab": {
          "base_uri": "https://localhost:8080/"
        }
      },
      "outputs": [
        {
          "output_type": "execute_result",
          "data": {
            "text/plain": [
              "4"
            ]
          },
          "metadata": {},
          "execution_count": 199
        }
      ],
      "source": [
        "allergy_count(ALLERGIES_FILE)"
      ]
    },
    {
      "cell_type": "code",
      "execution_count": 200,
      "metadata": {
        "nbgrader": {
          "grade": true,
          "grade_id": "q1-tests",
          "locked": true,
          "points": 5,
          "schema_version": 1,
          "solution": false
        },
        "id": "OXeeHMDe7cbA"
      },
      "outputs": [],
      "source": [
        "assert type(allergy_count(ALLERGIES_FILE)) == int\n",
        "assert allergy_count(ALLERGIES_FILE) == 4"
      ]
    },
    {
      "cell_type": "markdown",
      "metadata": {
        "id": "4MJGX2vn7cbA"
      },
      "source": [
        "### 30.2 Number of Patients\n",
        "\n",
        "If you dig a little bit deaper into this list of allergies, you'll see that each result has a patient associated with it.  Create a funcation called `patient_count(json_file)` that will count how many unique patients we have in this JSON structure.  "
      ]
    },
    {
      "cell_type": "code",
      "execution_count": 201,
      "metadata": {
        "id": "dSs7d3Qb7cbA"
      },
      "outputs": [],
      "source": [
        "# Put your solution here\n",
        "import json\n",
        "\n",
        "def patient_count(json_file):\n",
        "  \"\"\"\n",
        "  (dict)-> int\n",
        "  Here I have created a variable as events and I have run the for loop so that I\n",
        "  loop over the enteries an I have put the if condition to access the certainity\n",
        "  from the entry so if the certainity is confirmed it adds up th events so that\n",
        "  we get to see how many allergies are recorded.\n",
        "\n",
        "  >>> type(patient_count(ALLERGIES_FILE))\n",
        "  int\n",
        "\n",
        "  >>> patient_count(ALLERGIES_FILE)\n",
        "  2\n",
        "  \"\"\"\n",
        "  try:\n",
        "    with open(json_file, 'r') as file:\n",
        "      data = json.load(file)\n",
        "      unique_patients = set()\n",
        "    if \"entry\" in data and isinstance(data[\"entry\"], list):\n",
        "      for entry in data[\"entry\"]:\n",
        "        if \"resource\" in entry and \"patient\" in entry[\"resource\"] and \"display\" in entry[\"resource\"][\"patient\"]:\n",
        "          patient_name = entry[\"resource\"][\"patient\"][\"display\"]\n",
        "          unique_patients.add(patient_name)\n",
        "    return len(unique_patients)\n",
        "  except FileNotFoundError:\n",
        "    return 0\n",
        "\n",
        "ALLERGIES_FILE = 'allergies.json'"
      ]
    },
    {
      "cell_type": "code",
      "execution_count": 202,
      "metadata": {
        "id": "kD99kiGi7cbA",
        "outputId": "472348e9-514d-4b30-ead8-d0649200ace8",
        "colab": {
          "base_uri": "https://localhost:8080/"
        }
      },
      "outputs": [
        {
          "output_type": "execute_result",
          "data": {
            "text/plain": [
              "2"
            ]
          },
          "metadata": {},
          "execution_count": 202
        }
      ],
      "source": [
        "patient_count(ALLERGIES_FILE)"
      ]
    },
    {
      "cell_type": "code",
      "execution_count": 203,
      "metadata": {
        "id": "BJZk9aLh7cbA"
      },
      "outputs": [],
      "source": [
        "assert type(patient_count(ALLERGIES_FILE)) == int\n",
        "assert patient_count(ALLERGIES_FILE) == 2"
      ]
    },
    {
      "cell_type": "markdown",
      "metadata": {
        "id": "2x3ro7Na7cbA"
      },
      "source": [
        "### 30.3 How Many Allergies per Patient\n",
        "\n",
        "Although each entry is a separate allergy, several of them are for the same patient.  Write a function called `allergy_per_patient(json_file)` that counts up how many allergies each patient has.\n"
      ]
    },
    {
      "cell_type": "code",
      "execution_count": 204,
      "metadata": {
        "id": "NnVn0KQl7cbB"
      },
      "outputs": [],
      "source": [
        "# Put your solution here\n",
        "import json\n",
        "def allergy_per_patient(jason_file):\n",
        "    \"\"\"\n",
        "    Count the number of allergies per patient in a JSON file containing allergy data.\n",
        "\n",
        "    This function reads a JSON file, extracts the 'patient' and 'substance' information from each entry,\n",
        "    and returns a dictionary where keys are patient names and values are the count of allergies for each patient.\n",
        "\n",
        "    Parameters:\n",
        "        json_file (str): The name or path of the JSON file to be processed.\n",
        "\n",
        "   Returns:\n",
        "       dict: A dictionary where keys are patient names and values are the count of allergies for each patient.\n",
        "\n",
        "  If the JSON file is not found or cannot be opened, it will print an error message and return an empty dictionary.\n",
        "\n",
        "  Examples:\n",
        "     >>> type(allergy_per_patient(\"ALLERGIES_FILE.json\"))\n",
        "     dict\n",
        "     >>> allergy_per_patient(\"ALLERGIES_FILE.json\")\n",
        "     {'Paul Boal' : 1, 'Jason Argonaut': 3}\n",
        "    \"\"\"\n",
        "    try:\n",
        "        with open(jason_file, 'r') as file:\n",
        "            data = json.load(file)\n",
        "            allergy_counts = {}\n",
        "\n",
        "            if \"entry\" in data and isinstance(data[\"entry\"], list):\n",
        "                for entry in data[\"entry\"]:\n",
        "                    if \"resource\" in entry and \"patient\" in entry[\"resource\"]:\n",
        "                        patient_name = entry[\"resource\"][\"patient\"][\"display\"]\n",
        "\n",
        "                        if patient_name in allergy_counts:\n",
        "                            allergy_counts[patient_name] += 1\n",
        "                        else:\n",
        "                            allergy_counts[patient_name] = 1\n",
        "                print(allergy_counts)\n",
        "            return allergy_counts\n",
        "    except FileNotFoundError:\n",
        "       return {}\n",
        "\n",
        "\n",
        "ALLERGIES_FILE = 'allergies.json'"
      ]
    },
    {
      "cell_type": "code",
      "execution_count": 205,
      "metadata": {
        "id": "gdLqJVmQ7cbB",
        "outputId": "91b68c76-2668-4a04-f23e-4f5f3b97d2bf",
        "colab": {
          "base_uri": "https://localhost:8080/"
        }
      },
      "outputs": [
        {
          "output_type": "stream",
          "name": "stdout",
          "text": [
            "{'Jason Argonaut': 3, 'Paul Boal': 1}\n"
          ]
        },
        {
          "output_type": "execute_result",
          "data": {
            "text/plain": [
              "{'Jason Argonaut': 3, 'Paul Boal': 1}"
            ]
          },
          "metadata": {},
          "execution_count": 205
        }
      ],
      "source": [
        "allergy_per_patient(ALLERGIES_FILE)"
      ]
    },
    {
      "cell_type": "code",
      "execution_count": 206,
      "metadata": {
        "id": "bHgXVXUm7cbB",
        "outputId": "fef82e2b-575c-4da4-afcb-7811ab405029",
        "colab": {
          "base_uri": "https://localhost:8080/"
        }
      },
      "outputs": [
        {
          "output_type": "stream",
          "name": "stdout",
          "text": [
            "{'Jason Argonaut': 3, 'Paul Boal': 1}\n",
            "{'Jason Argonaut': 3, 'Paul Boal': 1}\n"
          ]
        }
      ],
      "source": [
        "assert type(allergy_per_patient(ALLERGIES_FILE)) == dict\n",
        "assert allergy_per_patient(ALLERGIES_FILE) == {'Paul Boal': 1, 'Jason Argonaut': 3}"
      ]
    },
    {
      "cell_type": "markdown",
      "metadata": {
        "nbgrader": {
          "grade": false,
          "grade_id": "q2-question",
          "locked": true,
          "schema_version": 1,
          "solution": false
        },
        "id": "eXGHIGE-7cbB"
      },
      "source": [
        "### 30.4 Patient Allergies and Reaction\n",
        "\n",
        "You'll see in the file that each of the items in the `entry` list have several other attributes including a patient name, substance text representation, and a reaction manifestation.  Create a function named `allergy_list(json_file)` that will create an output list that has patient name, allergy, and reaction for each `entry`.  The actual result you should get will be:\n",
        "\n",
        "```python\n",
        "[['Jason Argonaut', 'PENICILLIN G', 'Hives'],\n",
        " ['Paul Boal', 'PENICILLIN G', 'Bruising'],\n",
        " ['Jason Argonaut', 'SHELLFISH-DERIVED PRODUCTS', 'Itching'],\n",
        " ['Jason Argonaut', 'STRAWBERRY', 'Anaphylaxis']]\n",
        "```\n",
        "\n",
        "You'll notice that the reaction and the manifestation of that action are lists.  You only need to capture the first reaction and the first manifestation of the action.  That is, if there is a list of things, just output the first one."
      ]
    },
    {
      "cell_type": "code",
      "execution_count": 207,
      "metadata": {
        "nbgrader": {
          "grade": false,
          "grade_id": "q2-answer",
          "locked": false,
          "schema_version": 1,
          "solution": true
        },
        "id": "MfEeRJ9c7cbB"
      },
      "outputs": [],
      "source": [
        "# Put your solution here\n",
        "import json\n",
        "\n",
        "def allergy_list(json_file):\n",
        "  \"\"\"\n",
        "    (dict)->int\n",
        "    Here I have created a variable as events and I have run the for loop so that I\n",
        "    loop over the enteries an I have put the if condition to access the certainity\n",
        "    from the entry so if the certainity is confirmed it adds up the events so that\n",
        "    we get to see how many allergies are recorded.\n",
        "\n",
        "    >>>allergy_list(ALLERGIES_FILE)\n",
        "       list\n",
        "    >>>allergies_count(ALLERGIES_FILE)\n",
        "    [['Jason Argonaut', 'PENICILLIN G', 'Hives'],\n",
        "    ['Jason Argonaut', 'Shellfish-derived products', 'Itching'],\n",
        "    ['Jason Argonaut', 'STRAWBERRY', 'ANAPHYLAXSIS'],\n",
        "    ['Paul Boal', 'PENICILLIN G', 'Bruising']]\n",
        "  \"\"\"\n",
        "  try:\n",
        "        with open(json_file, 'r') as file:\n",
        "            data = json.load(file)\n",
        "            output_list = []\n",
        "\n",
        "            if \"entry\" in data and isinstance(data[\"entry\"], list):\n",
        "                for entry in data[\"entry\"]:\n",
        "                    if \"resource\" in entry and \"patient\" in entry[\"resource\"]:\n",
        "                        patient_name = entry[\"resource\"][\"patient\"][\"display\"]\n",
        "\n",
        "                        if \"substance\" in entry[\"resource\"] and \"text\" in entry[\"resource\"][\"substance\"]:\n",
        "                            allergy = entry[\"resource\"][\"substance\"][\"text\"]\n",
        "                        else:\n",
        "                            allergy = None\n",
        "                        if \"reaction\" in entry[\"resource\"] and isinstance(entry[\"resource\"][\"reaction\"], list):\n",
        "                            first_reaction = entry[\"resource\"][\"reaction\"][0][\"manifestation\"][0][\"text\"] if len(entry[\"resource\"][\"reaction\"]) > 0 and \"manifestation\" in entry[\"resource\"][\"reaction\"][0] else None\n",
        "                        else:\n",
        "                            first_reaction = None\n",
        "\n",
        "                        output_list.append([patient_name, allergy, first_reaction])\n",
        "\n",
        "            return output_list\n",
        "  except FileNotFoundError:\n",
        "        return []\n",
        "\n",
        "\n",
        "ALLERGIES_FILE = 'allergies.json'"
      ]
    },
    {
      "cell_type": "code",
      "execution_count": 208,
      "metadata": {
        "id": "F294gtyF7cbB",
        "outputId": "4024bd9b-891a-4121-cf1d-b058ee0dcd7b",
        "colab": {
          "base_uri": "https://localhost:8080/"
        }
      },
      "outputs": [
        {
          "output_type": "execute_result",
          "data": {
            "text/plain": [
              "[['Jason Argonaut', 'PENICILLIN G', 'Hives'],\n",
              " ['Jason Argonaut', 'SHELLFISH-DERIVED PRODUCTS', 'Itching'],\n",
              " ['Jason Argonaut', 'STRAWBERRY', 'Anaphylaxis'],\n",
              " ['Paul Boal', 'PENICILLIN G', 'Bruising']]"
            ]
          },
          "metadata": {},
          "execution_count": 208
        }
      ],
      "source": [
        "allergy_list(ALLERGIES_FILE)"
      ]
    },
    {
      "cell_type": "code",
      "execution_count": 209,
      "metadata": {
        "nbgrader": {
          "grade": true,
          "grade_id": "q2-tests",
          "locked": true,
          "points": 10,
          "schema_version": 1,
          "solution": false
        },
        "id": "HXnDwy3C7cbB"
      },
      "outputs": [],
      "source": [
        "assert allergy_list(ALLERGIES_FILE) == [['Jason Argonaut', 'PENICILLIN G', 'Hives'],\n",
        " ['Jason Argonaut', 'SHELLFISH-DERIVED PRODUCTS', 'Itching'],\n",
        " ['Jason Argonaut', 'STRAWBERRY', 'Anaphylaxis'],\n",
        " ['Paul Boal', 'PENICILLIN G', 'Bruising']]\n"
      ]
    },
    {
      "cell_type": "markdown",
      "metadata": {
        "nbgrader": {
          "grade": false,
          "grade_id": "q3-question",
          "locked": true,
          "schema_version": 1,
          "solution": false
        },
        "id": "OmAtlAQ97cbC"
      },
      "source": [
        "### 30.5 Allergy Reaction\n",
        "\n",
        "Write a function called `allergy_reaction(json_file,patient,substance)` that takes three parameter and returns the reaction that will happen if the patient takes the specified substance.  You can solve this, in part, by calling your `allergy_list` function inside your new `allergy_reaction` function.\n",
        "\n",
        "If the substance is not found in the allergy list, the function should return None."
      ]
    },
    {
      "cell_type": "code",
      "source": [
        "# Put your solution here\n",
        "import json\n",
        "def allergy_reaction(json_file,patient,substance):\n",
        "  \"\"\"\n",
        "   (dict)->str or None\n",
        "   Here I have created a variable as events and I have run the for loop so that I\n",
        "   loop over the enteries an I have put the if condition to access the certainity\n",
        "   from the entry so if the certainity is confirmed it adds up the events so that\n",
        "   we got to see how many allergies are recorded.\n",
        "\n",
        "   >>>type(allergy_reaction(\"ALLERGIES_FILE.json\"))\n",
        "\n",
        "   >>>allergy_reaction(ALLERGIES_FILE, 'Jason Argonaut','PENICILLIN G')\n",
        "   Hives\n",
        "   >>>allergy_reaction(ALLERGIES_FILE,'Jason Argonaut','SHELLFISH-DERIVED PRODUCTS')\n",
        "   Itching\n",
        "\n",
        "   >>>allergy_reaction(ALLERGIES_FILE,'Jason Argonaut','STRAWBERRY')\n",
        "   Anaphylaxsis\n",
        "\n",
        "   >>>allergy_reaction(ALLERGIES_FILE,'Jason Argonaut','PENICILLIN G')\n",
        "   None\n",
        "\n",
        "   >>>allergy_reaction(ALLERGIES_FILE,'Paul Boal','PENICIILIN G')\n",
        "   Bruising\n",
        "   \"\"\"\n",
        "  allergy_data=allergy_list(json_file)\n",
        "  reaction=None\n",
        "  for entry in allergy_data:\n",
        "    entry_patient,entry_substance,entry_reaction=entry\n",
        "    if entry_patient==patient and entry_substance==substance:\n",
        "      reaction=entry_reaction\n",
        "  return reaction\n",
        "ALLERGIES_FILE='allergies.json'"
      ],
      "metadata": {
        "id": "zNLpuU3YwOmV"
      },
      "execution_count": 210,
      "outputs": []
    },
    {
      "cell_type": "code",
      "execution_count": 211,
      "metadata": {
        "id": "bbYI1Zhj7cbC",
        "outputId": "4cee501b-fa44-4476-a5d7-5fa20022d99d",
        "colab": {
          "base_uri": "https://localhost:8080/",
          "height": 35
        }
      },
      "outputs": [
        {
          "output_type": "execute_result",
          "data": {
            "text/plain": [
              "'Hives'"
            ],
            "application/vnd.google.colaboratory.intrinsic+json": {
              "type": "string"
            }
          },
          "metadata": {},
          "execution_count": 211
        }
      ],
      "source": [
        "allergy_reaction(ALLERGIES_FILE, 'Jason Argonaut', 'PENICILLIN G')"
      ]
    },
    {
      "cell_type": "code",
      "execution_count": 212,
      "metadata": {
        "nbgrader": {
          "grade": true,
          "grade_id": "q3-tests",
          "locked": true,
          "points": 5,
          "schema_version": 1,
          "solution": false
        },
        "id": "okCn44VW7cbC"
      },
      "outputs": [],
      "source": [
        "assert allergy_reaction(ALLERGIES_FILE, 'Jason Argonaut', 'PENICILLIN G') == 'Hives'\n",
        "assert allergy_reaction(ALLERGIES_FILE, 'Jason Argonaut', 'SHELLFISH-DERIVED PRODUCTS') == 'Itching'\n",
        "assert allergy_reaction(ALLERGIES_FILE, 'Jason Argonaut', 'STRAWBERRY') == 'Anaphylaxis'\n",
        "assert allergy_reaction(ALLERGIES_FILE, 'Jason Argonaut', 'PENICILLIN') == None\n",
        "assert allergy_reaction(ALLERGIES_FILE, 'Paul Boal', 'PENICILLIN G') == 'Bruising'"
      ]
    },
    {
      "cell_type": "markdown",
      "metadata": {
        "id": "bqmTK6Ve7cbC"
      },
      "source": [
        "---\n",
        "\n",
        "## Check your work above\n",
        "\n",
        "If you didn't get them all correct, take a few minutes to think through those that aren't correct.\n",
        "\n",
        "\n",
        "## Submitting Your Work\n",
        "\n",
        "In order to submit your work, you'll need to save this notebook file back to GitHub.  To do that in Google Colab:\n",
        "1. File -> Save a Copy in GitHub\n",
        "2. Make sure your HDS5210 repository is selected\n",
        "3. Make sure the file name includes the week number like this: `week06/week06_assignment_2.ipynb`\n",
        "4. Add a commit message that means something\n",
        "\n",
        "**Be sure week names are lowercase and use a two digit week number!!**\n",
        "\n",
        "**Be sure you use the same file name provided by the instructor!!**\n",
        "\n"
      ]
    }
  ],
  "metadata": {
    "celltoolbar": "Create Assignment",
    "kernelspec": {
      "display_name": "Python 3",
      "language": "python",
      "name": "python3"
    },
    "language_info": {
      "codemirror_mode": {
        "name": "ipython",
        "version": 3
      },
      "file_extension": ".py",
      "mimetype": "text/x-python",
      "name": "python",
      "nbconvert_exporter": "python",
      "pygments_lexer": "ipython3",
      "version": "3.9.16"
    },
    "colab": {
      "provenance": []
    }
  },
  "nbformat": 4,
  "nbformat_minor": 0
}