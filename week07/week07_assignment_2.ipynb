{
  "cells": [
    {
      "cell_type": "markdown",
      "metadata": {
        "id": "MAxgGDXSKLXz"
      },
      "source": [
        "# Week 7 Assignment\n",
        "\n",
        "We've been working with different types of data structures in Python (dictionary, list, etc), how those are represented in JSON documents, and how to write code to access specific data elements. In this week's assignment, you will need to create your own JSON document to store information about yourself and the grades you've received from week 1 to week 4 and the week 6 quiz.  That is, everything you should have received a grade for.  Then you'll need to show me you know how to navigate the JSON in that file.\n",
        "\n",
        "Different from what we've done in the past, you do not have to write any functions or include any docstrings.  Just create some JSON and write some code.\n",
        "\n",
        "---"
      ]
    },
    {
      "cell_type": "markdown",
      "metadata": {
        "id": "NjMzjncrKLX0"
      },
      "source": [
        "## 7.1 Create a JSON string\n",
        "\n",
        "Create a JSON string that contains your name, email, year you were born, all of the grades you've received back so far, and a comment about what you thought was most challenging on each of those assignments.  This can be any structure you choose, but make sure it uses a dictionary and a list, and has at least two levels of hierarchy.  That is, it can't just be one big long list."
      ]
    },
    {
      "cell_type": "markdown",
      "metadata": {
        "id": "bzToE1pRKLX0"
      },
      "source": [
        "First, explain how your data structure is going to look..."
      ]
    },
    {
      "cell_type": "markdown",
      "metadata": {
        "id": "N0eKhwu4KLX1"
      },
      "source": [
        "* My name, email address, date of birth, assignment grades, and comments on each assignment are all represented for me in the JSON data, which is structured using lists and dictionaries."
      ]
    },
    {
      "cell_type": "markdown",
      "metadata": {
        "id": "K-yMGaLjKLX1"
      },
      "source": [
        "Then put the actual JSON you've created inside the multiline string below..."
      ]
    },
    {
      "cell_type": "code",
      "execution_count": 75,
      "metadata": {
        "id": "J2SYDFzOKLX1"
      },
      "outputs": [],
      "source": [
        "hds5210 = \"\"\"\n",
        "{\n",
        "  \"my_personal_info\":{\n",
        "    \"name\":\"Mattapalli Srinayani\",\n",
        "    \"my_email\":\"smattapalli@slu.edu\",\n",
        "    \"year_of_birth\":1999\n",
        "  },\n",
        "  \"assignment\": [\n",
        "    {\n",
        "      \"assignment\":\"week01\",\n",
        "      \"grade\":10,\n",
        "      \"most_challenging\":\"I didnot face any problem in week-01 assignment.\"\n",
        "    },\n",
        "    {\n",
        "      \"assignment\":\"week02\",\n",
        "      \"grade\":10,\n",
        "      \"most_challenging\":\"I have faced sme issues in week-02 assignment.\"\n",
        "    },\n",
        "    {\n",
        "      \"assignment\":\"week03\",\n",
        "      \"grade\":10,\n",
        "      \"most_challenging\":\"I found it hard to run code in week-03 assignment.\"\n",
        "    },\n",
        "    {\n",
        "      \"assignment\":\"week04\",\n",
        "      \"grade\":10,\n",
        "      \"most_challenging\":\"I took some time to run code in week04 assignment.\"\n",
        "    },\n",
        "    {\n",
        "      \"assignment\":\"week06_quiz\",\n",
        "      \"grade\":05,\n",
        "      \"most_challenging\":\"The most challenging aspect of assignment is time management.\"\n",
        "    }\n",
        "    )\n",
        "  ]\n",
        "  \"\"\""
      ]
    },
    {
      "cell_type": "markdown",
      "metadata": {
        "id": "VWb1m-ldKLX1"
      },
      "source": [
        "## 7.2 Do something with your JSON\n",
        "\n",
        "Now use Python code to do something with the Json above.  Turn it into English text, but make sure that you use at least one loop to access some dict or list content of your JSON.  Below, I've provided some basic code to read in the string above as JSON and return a Python object.  Your job is to work with that data structure and print out the important information like your name, email, and how you did on each assignment."
      ]
    },
    {
      "cell_type": "code",
      "execution_count": 81,
      "metadata": {
        "colab": {
          "base_uri": "https://localhost:8080/"
        },
        "id": "DnBdiQWvKLX2",
        "outputId": "85f1d9b7-4e95-4858-d411-21ae97bee177"
      },
      "outputs": [
        {
          "output_type": "stream",
          "name": "stdout",
          "text": [
            "Hello, my name is MATTAPALLI SRINAYANI and my email address is smattapalli@slu.edu. I was born in 1999.\n",
            "For the week1 assignment, I received a grade of 10.\n",
            "The most challenging part was: Found the material engaging.\n",
            "For the week2 assignment, I received a grade of 10.\n",
            "The most challenging part was: Challenging but rewarding.\n",
            "For the week3 assignment, I received a grade of 10.\n",
            "The most challenging part was: Enjoyed working on assignments.\n",
            "For the week4 assignment, I received a grade of 10.\n",
            "The most challenging part was: Struggled slightly with complexity.\n",
            "For the week6 assignment, I received a grade of 5.\n",
            "The most challenging part was: Had difficulty in grasping concepts.\n"
          ]
        }
      ],
      "source": [
        "import json\n",
        "\n",
        "# Assuming that hds5210 is a JSON string\n",
        "hds5210 = '''\n",
        "{\n",
        "  \"my_personal_info\": {\n",
        "    \"name\": \"MATTAPALLI SRINAYANI\",\n",
        "    \"my_email\": \"smattapalli@slu.edu\",\n",
        "    \"year_of_birth\": 1999\n",
        "  },\n",
        "  \"assignments\": [\n",
        "    {\n",
        "      \"assignment\": \"week1\",\n",
        "      \"grade\": 10,\n",
        "      \"most_challenging\": \"Found the material engaging.\"\n",
        "    },\n",
        "    {\n",
        "      \"assignment\": \"week2\",\n",
        "      \"grade\": 10,\n",
        "      \"most_challenging\": \"Challenging but rewarding.\"\n",
        "    },\n",
        "    {\n",
        "      \"assignment\": \"week3\",\n",
        "      \"grade\": 10,\n",
        "      \"most_challenging\": \"Enjoyed working on assignments.\"\n",
        "    },\n",
        "    {\n",
        "      \"assignment\": \"week4\",\n",
        "      \"grade\": 10,\n",
        "      \"most_challenging\": \"Struggled slightly with complexity.\"\n",
        "    },\n",
        "    {\n",
        "      \"assignment\": \"week6\",\n",
        "      \"grade\": 5,\n",
        "      \"most_challenging\": \"Had difficulty in grasping concepts.\"\n",
        "    }\n",
        "  ]\n",
        "}\n",
        "'''\n",
        "\n",
        "info = json.loads(hds5210)\n",
        "\n",
        "my_personal_info = info[\"my_personal_info\"]\n",
        "name = my_personal_info[\"name\"]\n",
        "my_email = my_personal_info[\"my_email\"]\n",
        "year_of_birth = my_personal_info[\"year_of_birth\"]\n",
        "assignments = info[\"assignments\"]\n",
        "\n",
        "print(f\"Hello, my name is {name} and my email address is {my_email}. I was born in {year_of_birth}.\")\n",
        "\n",
        "for assignment in assignments:\n",
        "    print(f\"For the {assignment['assignment']} assignment, I received a grade of {assignment['grade']}.\")\n",
        "    print(f\"The most challenging part was: {assignment['most_challenging']}\")"
      ]
    },
    {
      "cell_type": "markdown",
      "metadata": {
        "id": "CMgTxxuTKLX2"
      },
      "source": [
        "## 7.3 Reflect\n",
        "\n",
        "Write a paragraph on any reflections you have. Was this hard? Easy?  What parts were most challenging or easiest? What did you like or dislike about the assignment?  Share whatever important thoughts you have abou this assignment."
      ]
    },
    {
      "cell_type": "markdown",
      "metadata": {
        "id": "PvArCb5KKLX2"
      },
      "source": [
        "* Put your response here"
      ]
    },
    {
      "cell_type": "markdown",
      "source": [],
      "metadata": {
        "id": "d7luzHAXyozt"
      }
    },
    {
      "cell_type": "markdown",
      "source": [
        "I gained a lot of knowledge from this task. Though there were some aspects that needed close attention, including making sure the key names and JSON format matched, working with Python and JSON data was generally simple. Data organization was aided by the simple process of looping across assignments. Constructing the JSON structure and observing its potential for information storage was enjoyable. I found it to be a worthwhile exercise."
      ],
      "metadata": {
        "id": "-QAXl4rUxKQB"
      }
    },
    {
      "cell_type": "markdown",
      "source": [
        "It is an interesting and fascinating work to me."
      ],
      "metadata": {
        "id": "fklsZ4iawgM7"
      }
    },
    {
      "cell_type": "markdown",
      "metadata": {
        "id": "Cwgg3_kcKLX2"
      },
      "source": [
        "---\n",
        "\n",
        "# Example\n",
        "\n",
        "Below is an example of something similar, but this uses information my and my friend's kids instead of grades."
      ]
    },
    {
      "cell_type": "code",
      "execution_count": 38,
      "metadata": {
        "colab": {
          "base_uri": "https://localhost:8080/"
        },
        "id": "IJ0GXY1GKLX2",
        "outputId": "a076d645-0971-4a3d-af34-c9c450ccd7ea"
      },
      "outputs": [
        {
          "output_type": "stream",
          "name": "stdout",
          "text": [
            "Hi, my name is Paul. I've got 3 kids. Their names are Ellie, Ada, Teddy.\n",
            "My friend, Anny has 1 kids. That's fewer than me. Their names are 1\n"
          ]
        }
      ],
      "source": [
        "hds5210 = \"\"\"\n",
        "{\n",
        "    \"me\": {\n",
        "        \"name\": \"Paul\",\n",
        "        \"kids\": [\"Ellie\", \"Ada\", \"Teddy\"]\n",
        "    },\n",
        "    \"friend\": {\n",
        "        \"name\": \"Anny\",\n",
        "        \"kids\": [\"Abby\"]\n",
        "    }\n",
        "}\n",
        "\"\"\"\n",
        "\n",
        "import json\n",
        "\n",
        "info = json.loads(hds5210)\n",
        "\n",
        "me = info[\"me\"][\"name\"]\n",
        "my_kids_count = len(info[\"me\"][\"kids\"])\n",
        "kids_list = \", \".join(info[\"me\"][\"kids\"])\n",
        "friend = info[\"friend\"][\"name\"]\n",
        "friends_kid_count = len(info[\"friend\"][\"kids\"])\n",
        "friend_kids = \", \".join(info[\"friend\"][\"kids\"])\n",
        "compare = \"more\" if friends_kid_count > my_kids_count else \"fewer\"\n",
        "\n",
        "print(f\"Hi, my name is {me}. I've got {my_kids_count} kids. Their names are {kids_list}.\")\n",
        "print(f\"My friend, {friend} has {friends_kid_count} kids. That's {compare} than me. Their names are {friends_kid_count}\")"
      ]
    }
  ],
  "metadata": {
    "kernelspec": {
      "display_name": "Python 3",
      "language": "python",
      "name": "python3"
    },
    "language_info": {
      "codemirror_mode": {
        "name": "ipython",
        "version": 3
      },
      "file_extension": ".py",
      "mimetype": "text/x-python",
      "name": "python",
      "nbconvert_exporter": "python",
      "pygments_lexer": "ipython3",
      "version": "3.9.16"
    },
    "colab": {
      "provenance": []
    }
  },
  "nbformat": 4,
  "nbformat_minor": 0
}