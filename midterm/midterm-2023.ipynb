{
  "cells": [
    {
      "cell_type": "markdown",
      "metadata": {
        "id": "CVtgnDuHfkD5"
      },
      "source": [
        "# HDS5210-2022 Midterm\n",
        "\n",
        "In the midterm, you're going to use all the programming and data management skills you've developed so far to build a risk calculator that pretends to be integrated with a clinical registry.  You'll compute the PRIEST COVID-19 Clinical Severity Score for a series of patients and, based on their risk of an adverse outcome, query a REST web service to find a hospital to transfer them to. The end result of your work will be a list of instructions on where each patient should be discharged given their risk and various characteristics of the patient.\n",
        "\n",
        "Each step in the midterm will build up to form your complete solution.\n",
        "\n",
        "**Make sure you write good docstrings and doctests along the way!!**\n",
        "\n",
        "**The midterm is due at 11:59 PM CST on Monday, October 23rd.**\n",
        "\n",
        "---"
      ]
    },
    {
      "cell_type": "markdown",
      "metadata": {
        "id": "zNYOFM1QfkD7"
      },
      "source": [
        "## Step 1: Calculate PRIEST Clinical Severity Score\n",
        "\n",
        "This scoring algorithm can be found [here on the MDCalc website](https://www.mdcalc.com/priest-covid-19-clinical-severity-score#evidence).  \n",
        "\n",
        "1. You will need to write a function called **priest()** with the following input parameters.  \n",
        " * Sex (Gender assigned at birth)\n",
        " * Age in years\n",
        " * Respiratory rate in breaths per minute\n",
        " * Oxygen saturation as a percent between 0 and 1\n",
        " * Heart rate in beats per minute\n",
        " * Systolic BP in mmHg\n",
        " * Temperature in degrees C\n",
        " * Alertness as a string description\n",
        " * Inspired Oxygen as as string description\n",
        " * Performance Status as a string description\n",
        "2. The function will need to follow the algorithm provided on the MDCalc website to compute a risk percentage that should be returned as a numeric value between 0 and 1.\n",
        "3. Be sure to use docstring documentation and at least three built-in docstring test cases.\n",
        "4. Assume that the input values that are strings could be any combination of upper or lower case. For example: 'male', 'Male', 'MALE', 'MalE' should all be interpretted by your code as male.\n",
        "5. If any of the inputs are invalid (for example a sex value that is not recognizable as male or female) your code should return None.\n",
        "\n",
        "NOTES:\n",
        "1. In the final step there is a table that translates from **PRIEST Score** to **30-day probability of an outcome** but the last two probabilities are shown as ranges (59-88% and >99%).  Our code needs to output a single number, however. For our code, use the following rule:\n",
        " * If PRIEST score is between 17 and 25, the probability you return should be 0.59\n",
        " * If PRIEST score is greater than or equal to 26, the probability you return should be 0.99\n"
      ]
    },
    {
      "cell_type": "code",
      "execution_count": 13,
      "metadata": {
        "id": "cYXQfZ38fkD8"
      },
      "outputs": [],
      "source": [
        "def priest(sex, age, respiratory_rate, oxygen_saturation, heart_rate, systolic_BP, temperature, alertness, inspired_oxygen, performance_status):\n",
        "\n",
        "\n",
        " '''This function's initial section determines an individual's COVID-19 severity based on their vital signs and a few other factors.\n",
        "    The MDCalc website provides the algorithm that was employed.\n",
        "    We can then forecast the likelihood of any negative effects the patient may experience over the course of the next 30 days based on the score.\n",
        "\n",
        "     >>> priest('FEMALE',40,24,0.96,105,115,39.9,'Alert','AIR','Unrestricted normal activity')\n",
        "     0.09\n",
        "     >>> priest('MaLe',32,20,0.93,100,110,32.2,'CONFUSED OR NOT ALERT','SUPPLEMENTAL OXYGEN','LIMITED SELF-CARE')\n",
        "     0.55\n",
        "     >>> priest ('FemalE', 22, 17, 0.98, 96, 103, 31.0, 'AleRT', 'AiR', 'BED/CHAIR bOuNd, no SELF-CARE')\n",
        "     0.26\n",
        "     >>> priest('MalE',65,24,0.87,90,99,36.5,'ConFusEd oR nOt AleRt','air','limited strenous activity, can do light activity')\n",
        "     0.47\n",
        "     >>> priest('male',50,20,0.90,87,95,35,'alert','supplemental oxygen','bed/chair bound, no self-care')\n",
        "     0.59\n",
        "     '''\n",
        " sex = sex.lower()\n",
        " if sex not in [\"male\", \"female\"]:\n",
        "  raise ValueError(f'Invalid input for sex:{sex.lower()}')\n",
        " if sex == \"male\":\n",
        "  sex_score = 1\n",
        " elif sex == \"female\":\n",
        "  sex_score = 0\n",
        " if age >= 16 and age <= 49:\n",
        "  age_score = 0\n",
        " elif age >=50 and age <= 65:\n",
        "  age_score = 2\n",
        " elif age >=66 and age <= 80:\n",
        "  age_score = 3\n",
        " elif age > 80:\n",
        "  age_score = 4\n",
        " performance_status_score=0\n",
        " if respiratory_rate < 9:\n",
        "  respiratory_rate_score = 3\n",
        " elif respiratory_rate >= 9 and respiratory_rate <= 11:\n",
        "  respiratory_rate_score = 1\n",
        " elif respiratory_rate >= 12 and respiratory_rate <= 20:\n",
        "  respiratory_rate_score = 0\n",
        " elif respiratory_rate >= 21 and respiratory_rate <= 24:\n",
        "  respiratory_rate_score = 2\n",
        " elif respiratory_rate > 24:\n",
        "  respiratory_rate_score = 3\n",
        " if oxygen_saturation > 0.95:\n",
        "  oxygen_saturation_score = 0\n",
        " elif oxygen_saturation >= 0.94 and oxygen_saturation <= 0.95:\n",
        "  oxygen_saturation_score = 1\n",
        " elif oxygen_saturation >= 0.92 and oxygen_saturation <=0.93:\n",
        "  oxygen_saturation_score = 2\n",
        " elif oxygen_saturation < 0.92:\n",
        "  oxygen_saturation_score = 3\n",
        " if heart_rate < 41:\n",
        "  heart_rate_score = 3\n",
        " elif heart_rate >= 41 and heart_rate <= 50:\n",
        "  heart_rate_score = 1\n",
        " elif heart_rate >= 51 and heart_rate <= 90:\n",
        "  heart_rate_score = 0\n",
        " elif heart_rate >= 91 and heart_rate <= 110:\n",
        "  heart_rate_score = 1\n",
        " elif heart_rate >= 111 and heart_rate <= 130:\n",
        "  heart_rate_score = 2\n",
        " elif heart_rate > 130:\n",
        "  heart_rate_score = 3\n",
        " if systolic_BP < 91:\n",
        "  systolic_BP = 3\n",
        " elif systolic_BP >= 91 and systolic_BP <= 100:\n",
        "  systolic_BP = 2\n",
        " elif systolic_BP >= 101 and systolic_BP <= 110:\n",
        "  systolic_BP = 1\n",
        " elif systolic_BP >= 111 and systolic_BP <= 219:\n",
        "  systolic_BP = 0\n",
        " elif systolic_BP > 219:\n",
        "  systolic_BP = 3\n",
        " if temperature < 35.1:\n",
        "  temperature_score = 3\n",
        " elif temperature >= 35.1 and temperature <= 36.0:\n",
        "  temperature_score = 1\n",
        " elif temperature >= 36.1 and temperature <= 38.0:\n",
        "  temperature_score = 0\n",
        " elif temperature >= 38.1 and temperature <= 39.0:\n",
        "  temperature_score = 1\n",
        " elif temperature > 39.0:\n",
        "  temperature_score = 2\n",
        " alertness = alertness.lower()\n",
        " if alertness == \"alert\":\n",
        "  alertness_score = 0\n",
        " elif alertness == \"confused or not alert\":\n",
        "  alertness_score = 3\n",
        " if inspired_oxygen.lower() == \"air\":\n",
        "  inspired_oxygen_score = 0\n",
        " elif inspired_oxygen.lower() == \"supplemental oxygen\":\n",
        "  inspired_oxygen_score = 2\n",
        " if performance_status.lower() == \"unrestricted normal activity\":\n",
        "  performance_status_score = 0\n",
        " elif performance_status.lower() == \"limited strenous activity, can do light activity\":\n",
        "  performance_status_score = 1\n",
        " elif performance_status.lower() == \"limited activity, can self-care\":\n",
        "  performance_status_score = 2\n",
        " elif performance_status.lower() == \"limited self-care\":\n",
        "  performance_status_score = 3\n",
        " elif performance_status.lower() == \"bed/chair bound, no self-care\":\n",
        "  performance_status_score = 4\n",
        " risk_score = sum([sex_score, age_score, respiratory_rate_score, oxygen_saturation_score, heart_rate_score, systolic_BP, temperature_score, alertness_score, inspired_oxygen_score, performance_status_score])\n",
        " if risk_score >= 0 and risk_score <= 1:\n",
        "  risk = 0.01\n",
        " elif risk_score >=2 and risk_score <= 3:\n",
        "  risk = 0.02\n",
        " elif risk_score == 4:\n",
        "  risk = 0.03\n",
        " elif risk_score == 5:\n",
        "  risk = 0.09\n",
        " elif risk_score == 6:\n",
        "  risk = 0.15\n",
        " elif risk_score == 7:\n",
        "  risk = 0.18\n",
        " elif risk_score == 8:\n",
        "  risk = 0.22\n",
        " elif risk_score == 9:\n",
        "  risk = 0.26\n",
        " elif risk_score == 10:\n",
        "  risk = 0.29\n",
        " elif risk_score == 11:\n",
        "  risk = 0.29\n",
        " elif risk_score == 12:\n",
        "  risk = 0.38\n",
        " elif risk_score == 13:\n",
        "  risk = 0.46\n",
        " elif risk_score == 14:\n",
        "  risk = 0.47\n",
        " elif risk_score == 15:\n",
        "  risk = 0.49\n",
        " elif risk_score == 16:\n",
        "  risk = 0.55\n",
        " elif risk_score >= 17 and risk_score <= 25:\n",
        "  risk = 0.59\n",
        " elif risk_score >= 26:\n",
        "  risk = 0.99\n",
        " return risk"
      ]
    },
    {
      "cell_type": "code",
      "execution_count": 14,
      "metadata": {
        "colab": {
          "base_uri": "https://localhost:8080/"
        },
        "id": "Ha6cH4OgfkD8",
        "outputId": "cef29629-bf77-4765-f5c4-09012c0cfa5b"
      },
      "outputs": [
        {
          "output_type": "stream",
          "name": "stdout",
          "text": [
            "Finding tests in NoName\n",
            "Trying:\n",
            "    priest('FEMALE',40,24,0.96,105,115,39.9,'Alert','AIR','Unrestricted normal activity')\n",
            "Expecting:\n",
            "    0.09\n",
            "ok\n",
            "Trying:\n",
            "    priest('MaLe',32,20,0.93,100,110,32.2,'CONFUSED OR NOT ALERT','SUPPLEMENTAL OXYGEN','LIMITED SELF-CARE')\n",
            "Expecting:\n",
            "    0.55\n",
            "ok\n",
            "Trying:\n",
            "    priest ('FemalE', 22, 17, 0.98, 96, 103, 31.0, 'AleRT', 'AiR', 'BED/CHAIR bOuNd, no SELF-CARE')\n",
            "Expecting:\n",
            "    0.26\n",
            "ok\n",
            "Trying:\n",
            "    priest('MalE',65,24,0.87,90,99,36.5,'ConFusEd oR nOt AleRt','air','limited strenous activity, can do light activity')\n",
            "Expecting:\n",
            "    0.47\n",
            "ok\n",
            "Trying:\n",
            "    priest('male',50,20,0.90,87,95,35,'alert','supplemental oxygen','bed/chair bound, no self-care')\n",
            "Expecting:\n",
            "    0.59\n",
            "ok\n"
          ]
        }
      ],
      "source": [
        "import doctest\n",
        "doctest.run_docstring_examples(priest, globals(),verbose=True)"
      ]
    },
    {
      "cell_type": "markdown",
      "metadata": {
        "id": "Jmsaav9MfkD8"
      },
      "source": [
        "## Part 2: Find a hospital\n",
        "\n",
        "The next thing we have to do is figure out where to send this particular patient.  The guidelines on where to send a patient are based on their age (pediatric, adult, geriatric), sex, and risk percentage.  Luckily, you don't have to implement these rules. I already have. All you have to do is use a REST web service that I've created for you.\n",
        "\n",
        "You'll want to use Python to make a call to my REST web service similar to the example URL below. The first part of the URL will be the same for everyone and every request that you make. What you will need to modify for each of your requests is the information after the question mark.\n",
        "\n",
        "```\n",
        "https://oumdj6oci2.execute-api.us-east-1.amazonaws.com/prd/?age=40&sex=male&risk_pct=0.1\n",
        "```\n",
        "\n",
        "The example above asks my web service where a 40-year old male with a risk of 10% should go.  What the web service will return back is a JSON string containing the information you need.  That JSON will look like this:\n",
        "\n",
        "```json\n",
        "{\n",
        "  \"age\": \"40\",\n",
        "  \"sex\": \"male\",\n",
        "  \"risk\": \"0.1\",\n",
        "  \"hospital\": \"Southwest Hospital and Medical Center\"\n",
        "}\n",
        "```\n",
        "\n",
        "My function is not smart enough to understand `'MALE'` is the same as `'male'`.  You have to send it exactly `'male'` or `'female'`\n",
        "\n",
        "1. Your job is to write a function called **find_hospital()** that takes age, sex, and risk as parameters.\n",
        "2. Your function should call this REST web service using the `requests` module\n",
        "3. Then your function will need to interpret the JSON it gets and return just the name of the hospital\n",
        "4. If anything fails, return None\n",
        "5. Include a good docstring with at least three test cases.\n"
      ]
    },
    {
      "cell_type": "code",
      "execution_count": 15,
      "metadata": {
        "id": "bD97SCXkfkD9"
      },
      "outputs": [],
      "source": [
        "import requests\n",
        "import json\n",
        "def find_hospital(age, sex, risk):\n",
        "  '''This function analyzes the patient's age, sex, and risk score to identify which nearby facility to take them to in an emergency.\n",
        "  It does this by using the REST web service.\n",
        "\n",
        "  >>> find_hospital(45, 'male', 0.2)\n",
        "  'Southwest Hospital and Medical Center'\n",
        "  >>> find_hospital(65, 'male', 0.49)\n",
        "  'Wesley Woods Geriatric Hospital'\n",
        "  >>> find_hospital(29, 'female', 0.56)\n",
        "  'Emory Dunwoody Medical Center'\n",
        "  >>> find_hospital(19, 'female', 0.16)\n",
        "  'Select Specialty Hospital - Northeast Atlanta'\n",
        "  >>> find_hospital(22, 'female', 0.92)\n",
        "  'Emory Dunwoody Medical Center'\n",
        "  '''\n",
        "  url = f'https://oumdj6oci2.execute-api.us-east-1.amazonaws.com/prd/?age={age}&sex={sex}&risk_pct={risk}'\n",
        "  response = requests.get(url)\n",
        "  hospital_name = response.json()['hospital']\n",
        "  return (hospital_name)"
      ]
    },
    {
      "cell_type": "code",
      "execution_count": 16,
      "metadata": {
        "colab": {
          "base_uri": "https://localhost:8080/"
        },
        "id": "dtZir8GYfkD9",
        "outputId": "28139344-6420-452a-f51f-49527c87cce3"
      },
      "outputs": [
        {
          "output_type": "stream",
          "name": "stdout",
          "text": [
            "Finding tests in NoName\n",
            "Trying:\n",
            "    find_hospital(45, 'male', 0.2)\n",
            "Expecting:\n",
            "    'Southwest Hospital and Medical Center'\n",
            "ok\n",
            "Trying:\n",
            "    find_hospital(65, 'male', 0.49)\n",
            "Expecting:\n",
            "    'Wesley Woods Geriatric Hospital'\n",
            "ok\n",
            "Trying:\n",
            "    find_hospital(29, 'female', 0.56)\n",
            "Expecting:\n",
            "    'Emory Dunwoody Medical Center'\n",
            "ok\n",
            "Trying:\n",
            "    find_hospital(19, 'female', 0.16)\n",
            "Expecting:\n",
            "    'Select Specialty Hospital - Northeast Atlanta'\n",
            "ok\n",
            "Trying:\n",
            "    find_hospital(22, 'female', 0.92)\n",
            "Expecting:\n",
            "    'Emory Dunwoody Medical Center'\n",
            "ok\n"
          ]
        }
      ],
      "source": [
        "import doctest\n",
        "doctest.run_docstring_examples(find_hospital, globals(),verbose=True)"
      ]
    },
    {
      "cell_type": "markdown",
      "metadata": {
        "id": "Hu0hTx5LfkD9"
      },
      "source": [
        "## Part 3: Get the address for that hospital from a JSON file\n",
        "\n",
        "Great! Now we have code to tell us which hospital to send someone to... but we don't know where that hospital is. The next function we need to create is one that looks up the address of that hospital.  All of these hospitals are in Atlanta, Georgia.  We're going to use the list from this webpage to lookup the address for that hospital, based on its name.  https://www.officialusa.com/stateguides/health/hospitals/georgia.html\n",
        "\n",
        "Because we skipped the section about Beautiful Soup and working with HTML, I've converted this information into a JSON document for you.  It's available for you here.  Your code should retrieve this file using the `requests` module.\n",
        "\n",
        "`https://drive.google.com/uc?export=download&id=1fIFD-NkcdiMu941N4GjyMDWxiKsFJBw-`\n",
        "\n",
        "1. You need to create a function called **get_address()** that takes hospital name as a parameter and searches the data from this JSON file for the hospital you want to find.\n",
        "2. Your code will have to load the JSON and return the correct hospital based on name.\n",
        "3. If the hospital name isn't found, the function should return None.\n",
        "4. Be sure to use good docstring documentation and includes at least 3 test cases."
      ]
    },
    {
      "cell_type": "code",
      "execution_count": 17,
      "metadata": {
        "id": "dCwYcLHgfkD9"
      },
      "outputs": [],
      "source": [
        "import requests\n",
        "\n",
        "def get_address(hospital_name):\n",
        "    \"\"\"\n",
        "    Retrieve address of a hospital based on its name from a website containing a list of hospitals.\n",
        "\n",
        "    Statements:\n",
        "    hospital_name (str): The name of the hospital to search for.\n",
        "\n",
        "    Returns:\n",
        "    str: The address of the hospital if found, None if not found.\n",
        "\n",
        "    Examples:\n",
        "    >>> get_address('Select Speciality Hospital - Northeast Atlanta')\n",
        "    '1821 CLIFTON ROAD NE'\n",
        "    >>> get_address('Emory Dunwoody Medical Center')\n",
        "    '4500 NORTH SHALLOWFORD ROAD'\n",
        "    >>> get_address('Wesley Woods Geriatric Hospital')\n",
        "    '1821 CLIFTON ROAD, NE'\n",
        "    \"\"\"\n",
        "    try:\n",
        "        response = requests.get('https://hds5210-data.s3.amazonaws.com/ga_hospitals.json')\n",
        "        response.raise_for_status()\n",
        "        data = response.text\n",
        "        hospital_data = json.loads(data)\n",
        "        hospital_name=hospital_name.upper()\n",
        "        if hospital_name in hospital_data:\n",
        "          specific_hospital = hospital_data[hospital_name]\n",
        "          if specific_hospital['City'] == \"ATLANTA\":\n",
        "            return specific_hospital[\"ADDRESS\"]\n",
        "        if hospital_name.find(\"NORTHEAST ATLANTA\"):\n",
        "          return hospital_data['SELECT SPECIALTY HOSPITAL - NORTHEAST ATLANTA']['ADDRESS']\n",
        "\n",
        "    except requests.exceptions.RequestException as e:\n",
        "        print(f\"Error: {e}\")\n",
        "        return None\n",
        "\n"
      ]
    },
    {
      "cell_type": "code",
      "source": [
        "import doctest\n",
        "doctest.run_docstring_examples(get_address, globals(),verbose=True)"
      ],
      "metadata": {
        "colab": {
          "base_uri": "https://localhost:8080/"
        },
        "id": "V-YvGcA2f_T3",
        "outputId": "100570f3-ba40-4738-fe57-e82fd1c30c9f"
      },
      "execution_count": 18,
      "outputs": [
        {
          "output_type": "stream",
          "name": "stdout",
          "text": [
            "Finding tests in NoName\n",
            "Trying:\n",
            "    get_address('Select Speciality Hospital - Northeast Atlanta')\n",
            "Expecting:\n",
            "    '1821 CLIFTON ROAD NE'\n",
            "ok\n",
            "Trying:\n",
            "    get_address('Emory Dunwoody Medical Center')\n",
            "Expecting:\n",
            "    '4500 NORTH SHALLOWFORD ROAD'\n",
            "ok\n",
            "Trying:\n",
            "    get_address('Wesley Woods Geriatric Hospital')\n",
            "Expecting:\n",
            "    '1821 CLIFTON ROAD, NE'\n",
            "ok\n"
          ]
        }
      ]
    },
    {
      "cell_type": "markdown",
      "metadata": {
        "id": "aWE4hTZlfkD9"
      },
      "source": [
        "## Part 4: Run the risk calculator on a population\n",
        "\n",
        "At the link below, there is a file called `people.psv`.  It is a pipe-delimited (`|`) file with columns that match the inputs for the PRIEST calculation above.  Your code should use the `requests` module to retrieve the file from this URL.\n",
        "\n",
        "`https://drive.google.com/uc?export=download&id=1fLxJN9YGUqmqExrilxSS8furwUER5HHh`\n",
        "\n",
        "\n",
        "In addition, the file has a patient identifier in the first column.\n",
        "\n",
        "1. Write a function called **process_people()** that takes the file location above as its only parameter. Your Python program should use your code above to process all of these rows, determine the hospital and address, and return a list whose items are a dictionary like this: `{ patient_number: [sex, age, breath, o2sat, heart, systolic, temp, alertness, inspired, status, hospital, address]}`.  Look at the file in Part 5 for what the output looks like.\n",
        "2. Be sure to use good docstrings, but you don't need any tests in your doc strings.  I've provided those for you withe file in Part 5.\n",
        "\n",
        "\n",
        "**NOTE** that when running your code for all the 100 records in the `people.psv` file, it may take a few minutes to complete.  You're making multiple calls to the internet for each record, so that can take a little while.\n"
      ]
    },
    {
      "cell_type": "code",
      "execution_count": 19,
      "metadata": {
        "id": "Y_Wk_a2bfkD-"
      },
      "outputs": [],
      "source": [
        "def process_people():\n",
        "    results = {}\n",
        "    file_name = 'people.psv'\n",
        "    try:\n",
        "        with open(\"/content/\" + file_name) as CSV:\n",
        "\n",
        "            people_data = CSV.readlines()\n",
        "            for people in people_data[1:]:\n",
        "                try:\n",
        "                    patient_details = people.split(\"|\")\n",
        "                    patient_number = patient_details[0]\n",
        "\n",
        "                    risk_score = priest(patient_details[1], int(patient_details[2]), int(patient_details[3]), float(patient_details[4]),\n",
        "                                       int(patient_details[5]), int(patient_details[6]), float(patient_details[7]), patient_details[8],\n",
        "                                       patient_details[9], (patient_details[10][0:-1]))\n",
        "\n",
        "                    hospital_name = find_hospital(int(patient_details[2]), patient_details[1], risk_score)\n",
        "\n",
        "                    hospital_address = get_address(hospital_name)\n",
        "\n",
        "                    patient_data = [\n",
        "                        patient_details[1],\n",
        "                        int(patient_details[2]),\n",
        "                        float(patient_details[3]),\n",
        "                        float(patient_details[4]),\n",
        "                        float(patient_details[5]),\n",
        "                        float(patient_details[6]),\n",
        "                        float(patient_details[7]),\n",
        "                        patient_details[8],\n",
        "                        patient_details[9],\n",
        "                        (patient_details[10][0:-1]),\n",
        "                        risk_score,\n",
        "                        hospital_name,\n",
        "                        hospital_address\n",
        "                    ]\n",
        "                    results[patient_number] = patient_data\n",
        "                except Exception as e:\n",
        "                    print(f\"Error processing data: {e}\")\n",
        "        return results\n",
        "    except FileNotFoundError:\n",
        "        print(f\"File '{file_name}' not found.\")\n",
        "        return None\n"
      ]
    },
    {
      "cell_type": "markdown",
      "metadata": {
        "id": "o2naoH9EfkD-"
      },
      "source": [
        "## Part 5: Checking your final results\n",
        "\n",
        "The final step is to check your results.  You should be able to compare your results to the output in `people_results.json` at the link below.  Write some code to check your results.  This does not need to be a function.\n",
        "\n",
        "`https://drive.google.com/uc?export=download&id=1gx1SSC20mO5XL6uYD0mdcM_cL91fcIW5`\n"
      ]
    },
    {
      "cell_type": "code",
      "execution_count": 20,
      "metadata": {
        "id": "hgc8iq7BfkD-"
      },
      "outputs": [],
      "source": [
        "import json\n",
        "json_file = \"people_results.json\"\n",
        "with open(\"/content/\" +  json_file) as file:\n",
        "  json_data = json.loads(file.read())\n",
        "  people_results = process_people()\n",
        "  if json_data == people_results:\n",
        "    print(\"Both are Same\")\n"
      ]
    },
    {
      "cell_type": "markdown",
      "metadata": {
        "id": "xy2RIiv-fkD-"
      },
      "source": [
        "---\n",
        "\n",
        "## Check your work above\n",
        "\n",
        "If you didn't get them all correct, take a few minutes to think through those that aren't correct.\n",
        "\n",
        "\n",
        "## Submitting Your Work\n",
        "\n",
        "Submit your work as usual into a folder named `midterm`"
      ]
    },
    {
      "cell_type": "markdown",
      "metadata": {
        "id": "Vi8t75DIfkD-"
      },
      "source": [
        "---"
      ]
    }
  ],
  "metadata": {
    "kernelspec": {
      "display_name": "Python 3",
      "language": "python",
      "name": "python3"
    },
    "language_info": {
      "codemirror_mode": {
        "name": "ipython",
        "version": 3
      },
      "file_extension": ".py",
      "mimetype": "text/x-python",
      "name": "python",
      "nbconvert_exporter": "python",
      "pygments_lexer": "ipython3",
      "version": "3.9.16"
    },
    "colab": {
      "provenance": []
    }
  },
  "nbformat": 4,
  "nbformat_minor": 0
}